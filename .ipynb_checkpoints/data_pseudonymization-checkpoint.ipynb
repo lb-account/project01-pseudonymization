{
 "cells": [
  {
   "cell_type": "markdown",
   "id": "67e6bd88-c9d7-4625-9311-04b899fdeaeb",
   "metadata": {},
   "source": [
    "--------------------------------------------------------------------------------"
   ]
  },
  {
   "cell_type": "markdown",
   "id": "a549227e-3e31-48df-b273-f0e718cbdbb8",
   "metadata": {},
   "source": [
    "<div style=\"text-align: center;\">\n",
    "    <h1 style=\"font-weight: bold;\">Pseudonymisation </h1>\n",
    "</div>"
   ]
  },
  {
   "cell_type": "markdown",
   "id": "d834af6f-f946-4c71-be0f-2545f9eab014",
   "metadata": {},
   "source": [
    "-------------------------------------------------------------------"
   ]
  },
  {
   "cell_type": "markdown",
   "id": "8db434d0-7190-4950-bfba-06c33b655642",
   "metadata": {},
   "source": [
    "# **Introduction**"
   ]
  },
  {
   "cell_type": "markdown",
   "id": "724f9043-53ba-4496-9dc9-e35982c16f88",
   "metadata": {},
   "source": [
    "In today's data-driven world, safeguarding personal information is crucial for privacy and security. One common approach to protect privacy while maintaining the utility of data is through the use of pseudonymisation. This project focuses on demonstrating how pseudonymisation works, using an example to illustrate its application. This notebook is a help to illustrate how the **pseudonymise_your_data.py** script works. \n",
    "\n",
    "Key Concepts:\n",
    "* Definition\n",
    "* Tokenisation : a reversible pseudonymisation method \n",
    "* Quasi-Identifiers\n",
    "* Limits of Pseudonymisation"
   ]
  },
  {
   "cell_type": "code",
   "execution_count": 1,
   "id": "4675fbec-fcf2-4355-9752-08964189168e",
   "metadata": {},
   "outputs": [],
   "source": [
    "import pandas as pd\n",
    "import numpy as np\n",
    "import matplotlib.pyplot as plt\n",
    "import matplotlib.image as mpimg\n",
    "import uuid  # For generating unique IDs"
   ]
  },
  {
   "cell_type": "markdown",
   "id": "6f1784ce-8821-4aa0-ac5e-70539f9aaff4",
   "metadata": {},
   "source": [
    "**1) Definition**"
   ]
  },
  {
   "cell_type": "markdown",
   "id": "93172b9d-4bc9-4800-ad0e-9a35a3cf5856",
   "metadata": {},
   "source": [
    "`Pseudonymisation` is a data protection technique that involves replacing personally identifiable information (PII) within a dataset with pseudonyms or artificial identifiers. This process helps to mitigate the risk of re-identifying individuals while maintaining the ability to perform data processing, analysis, and other operations. The main goal of pseudonymisation is to protect privacy and limit exposure to personal data, making it particularly useful in **compliance with data protection laws like the General Data Protection Regulation (GDPR).**\n",
    "\n",
    "Pseudonymisation can be achieved through various methods, including data encryption, tokenization, or hashing. The process may be **reversible**, where the pseudonym can be linked back to the original data with the use of an additional key or mapping, or **irreversible**, where the original data cannot be reconstructed, providing a higher level of privacy protection."
   ]
  },
  {
   "cell_type": "markdown",
   "id": "8eb28521-f8a6-4284-9042-3c7af16778f8",
   "metadata": {},
   "source": [
    "**2) Tokenization**"
   ]
  },
  {
   "cell_type": "markdown",
   "id": "a746398c-e24e-487b-a39e-29e0fbd83efc",
   "metadata": {},
   "source": [
    "In this section, we will focus on **tokenization**, where sensitive data is replaced by randomly generated tokens. Unlike irreversible methods like hashing with salt, tokenization allows for re-identification when needed."
   ]
  },
  {
   "cell_type": "markdown",
   "id": "2415370b-483f-43e0-b935-ca8b84d2f90f",
   "metadata": {},
   "source": [
    "`dataset_with_pii.csv` is a modified version of the [UCI Adult Income](https://archive.ics.uci.edu/dataset/2/adult) dataset which contains demographic information from the 1994 US Census. The associated classification task is to predict whether a particular individual earns more than $50,000 per year. "
   ]
  },
  {
   "cell_type": "code",
   "execution_count": 2,
   "id": "803250ea-7a83-4d87-a014-a44060ac9551",
   "metadata": {},
   "outputs": [],
   "source": [
    "# Specify the path to your CSV file\n",
    "file_path = \"D:/PORTFOLIO/project01-pseudonymization/data_resources/dataset_with_pii.csv\"\n",
    "\n",
    "# Read the CSV file into a Pandas DataFrame\n",
    "data = pd.read_csv(file_path)"
   ]
  },
  {
   "cell_type": "code",
   "execution_count": 3,
   "id": "4a374ec1-0db5-493c-a17a-f82e6d421581",
   "metadata": {},
   "outputs": [
    {
     "data": {
      "text/html": [
       "<div>\n",
       "<style scoped>\n",
       "    .dataframe tbody tr th:only-of-type {\n",
       "        vertical-align: middle;\n",
       "    }\n",
       "\n",
       "    .dataframe tbody tr th {\n",
       "        vertical-align: top;\n",
       "    }\n",
       "\n",
       "    .dataframe thead th {\n",
       "        text-align: right;\n",
       "    }\n",
       "</style>\n",
       "<table border=\"1\" class=\"dataframe\">\n",
       "  <thead>\n",
       "    <tr style=\"text-align: right;\">\n",
       "      <th></th>\n",
       "      <th>Name</th>\n",
       "      <th>DOB</th>\n",
       "      <th>SSN</th>\n",
       "      <th>Zip</th>\n",
       "      <th>Age</th>\n",
       "      <th>Workclass</th>\n",
       "      <th>fnlwgt</th>\n",
       "      <th>Education</th>\n",
       "      <th>Education-Num</th>\n",
       "      <th>Marital Status</th>\n",
       "      <th>Occupation</th>\n",
       "      <th>Relationship</th>\n",
       "      <th>Race</th>\n",
       "      <th>Sex</th>\n",
       "      <th>Capital Gain</th>\n",
       "      <th>Capital Loss</th>\n",
       "      <th>Hours per week</th>\n",
       "      <th>Country</th>\n",
       "      <th>Target</th>\n",
       "    </tr>\n",
       "  </thead>\n",
       "  <tbody>\n",
       "    <tr>\n",
       "      <th>0</th>\n",
       "      <td>Karrie Trusslove</td>\n",
       "      <td>9/7/1967</td>\n",
       "      <td>732-14-6110</td>\n",
       "      <td>64152</td>\n",
       "      <td>39</td>\n",
       "      <td>State-gov</td>\n",
       "      <td>77516</td>\n",
       "      <td>Bachelors</td>\n",
       "      <td>13</td>\n",
       "      <td>Never-married</td>\n",
       "      <td>Adm-clerical</td>\n",
       "      <td>Not-in-family</td>\n",
       "      <td>White</td>\n",
       "      <td>Male</td>\n",
       "      <td>2174</td>\n",
       "      <td>0</td>\n",
       "      <td>40</td>\n",
       "      <td>United-States</td>\n",
       "      <td>&lt;=50K</td>\n",
       "    </tr>\n",
       "    <tr>\n",
       "      <th>1</th>\n",
       "      <td>Brandise Tripony</td>\n",
       "      <td>6/7/1988</td>\n",
       "      <td>150-19-2766</td>\n",
       "      <td>61523</td>\n",
       "      <td>50</td>\n",
       "      <td>Self-emp-not-inc</td>\n",
       "      <td>83311</td>\n",
       "      <td>Bachelors</td>\n",
       "      <td>13</td>\n",
       "      <td>Married-civ-spouse</td>\n",
       "      <td>Exec-managerial</td>\n",
       "      <td>Husband</td>\n",
       "      <td>White</td>\n",
       "      <td>Male</td>\n",
       "      <td>0</td>\n",
       "      <td>0</td>\n",
       "      <td>13</td>\n",
       "      <td>United-States</td>\n",
       "      <td>&lt;=50K</td>\n",
       "    </tr>\n",
       "    <tr>\n",
       "      <th>2</th>\n",
       "      <td>Brenn McNeely</td>\n",
       "      <td>8/6/1991</td>\n",
       "      <td>725-59-9860</td>\n",
       "      <td>95668</td>\n",
       "      <td>38</td>\n",
       "      <td>Private</td>\n",
       "      <td>215646</td>\n",
       "      <td>HS-grad</td>\n",
       "      <td>9</td>\n",
       "      <td>Divorced</td>\n",
       "      <td>Handlers-cleaners</td>\n",
       "      <td>Not-in-family</td>\n",
       "      <td>White</td>\n",
       "      <td>Male</td>\n",
       "      <td>0</td>\n",
       "      <td>0</td>\n",
       "      <td>40</td>\n",
       "      <td>United-States</td>\n",
       "      <td>&lt;=50K</td>\n",
       "    </tr>\n",
       "  </tbody>\n",
       "</table>\n",
       "</div>"
      ],
      "text/plain": [
       "               Name       DOB          SSN    Zip  Age         Workclass  \\\n",
       "0  Karrie Trusslove  9/7/1967  732-14-6110  64152   39         State-gov   \n",
       "1  Brandise Tripony  6/7/1988  150-19-2766  61523   50  Self-emp-not-inc   \n",
       "2     Brenn McNeely  8/6/1991  725-59-9860  95668   38           Private   \n",
       "\n",
       "   fnlwgt  Education  Education-Num      Marital Status         Occupation  \\\n",
       "0   77516  Bachelors             13       Never-married       Adm-clerical   \n",
       "1   83311  Bachelors             13  Married-civ-spouse    Exec-managerial   \n",
       "2  215646    HS-grad              9            Divorced  Handlers-cleaners   \n",
       "\n",
       "    Relationship   Race   Sex  Capital Gain  Capital Loss  Hours per week  \\\n",
       "0  Not-in-family  White  Male          2174             0              40   \n",
       "1        Husband  White  Male             0             0              13   \n",
       "2  Not-in-family  White  Male             0             0              40   \n",
       "\n",
       "         Country Target  \n",
       "0  United-States  <=50K  \n",
       "1  United-States  <=50K  \n",
       "2  United-States  <=50K  "
      ]
     },
     "execution_count": 3,
     "metadata": {},
     "output_type": "execute_result"
    }
   ],
   "source": [
    "#print the first 3 lines\n",
    "data.head(3)"
   ]
  },
  {
   "cell_type": "markdown",
   "id": "0dfe72e8-ac1a-4526-a4de-2a29b57d735c",
   "metadata": {},
   "source": [
    "Parameters definition:\n",
    "\n",
    "* DOB = date of birth\n",
    "\n",
    "* SSN = Social Security number\n",
    "\n",
    "* fnlwgt = final weight, weights on the Current Population Survey (CPS) files\n",
    "\n",
    "* Education-Num = number assigned to the different ‘Education’ types\n",
    "\n",
    "* Target = earns more or less than $50,000/year\n",
    "\n",
    "`Personal Identifiable Information (PII)` or direct identifiers are attributes that explicitly identify a subject. In this case, we can list the attributes **Name**, **DOB** and **SSN**. Information such as zip code, marital status and gender, for example, are not considered explicit identifiers on their own, as they must be combined with other data to identify an individual."
   ]
  },
  {
   "cell_type": "markdown",
   "id": "06631f1b-428e-4321-baf9-79ad3755b38c",
   "metadata": {},
   "source": [
    "&nbsp;"
   ]
  },
  {
   "cell_type": "markdown",
   "id": "c1ac7b93-a898-4763-9f08-8267a89ce880",
   "metadata": {},
   "source": [
    "To pseudonymize our dataset in a reversible way, we will remove SSN and DOB and replace the names with tokens that will be stored in a CSV file"
   ]
  },
  {
   "cell_type": "code",
   "execution_count": 4,
   "id": "7d883519-f004-4bec-9381-3dcdf5126a98",
   "metadata": {},
   "outputs": [],
   "source": [
    "data_WDI = data.drop(['SSN', 'DOB'],axis=1) #dataset without direct identifiers"
   ]
  },
  {
   "cell_type": "code",
   "execution_count": 5,
   "id": "970a811e-c8be-4ad8-b8ad-5e1766bc9e82",
   "metadata": {},
   "outputs": [
    {
     "name": "stdout",
     "output_type": "stream",
     "text": [
      "[('Karrie Trusslove', '56f45652'), ('Brandise Tripony', 'c1dd5973'), ('Brenn McNeely', 'd7548254'), ('Dorry Poter', '9161b5e3'), ('Dick Honnan', '55836e75')]\n"
     ]
    }
   ],
   "source": [
    "name_map = {name: str(uuid.uuid4())[:8] for name in data[\"Name\"].unique()}  # 8-char token\n",
    "\n",
    "# Get the first 5 key-value pairs\n",
    "first_5_pairs = list(name_map.items())[:5]\n",
    "print(first_5_pairs)"
   ]
  },
  {
   "cell_type": "code",
   "execution_count": 6,
   "id": "3dfaa7f8-5b7b-48ac-ab92-1492ce2fe1e3",
   "metadata": {},
   "outputs": [
    {
     "data": {
      "text/html": [
       "<div>\n",
       "<style scoped>\n",
       "    .dataframe tbody tr th:only-of-type {\n",
       "        vertical-align: middle;\n",
       "    }\n",
       "\n",
       "    .dataframe tbody tr th {\n",
       "        vertical-align: top;\n",
       "    }\n",
       "\n",
       "    .dataframe thead th {\n",
       "        text-align: right;\n",
       "    }\n",
       "</style>\n",
       "<table border=\"1\" class=\"dataframe\">\n",
       "  <thead>\n",
       "    <tr style=\"text-align: right;\">\n",
       "      <th></th>\n",
       "      <th>ID</th>\n",
       "      <th>Zip</th>\n",
       "      <th>Age</th>\n",
       "      <th>Workclass</th>\n",
       "      <th>fnlwgt</th>\n",
       "      <th>Education</th>\n",
       "      <th>Education-Num</th>\n",
       "      <th>Marital Status</th>\n",
       "      <th>Occupation</th>\n",
       "      <th>Relationship</th>\n",
       "      <th>Race</th>\n",
       "      <th>Sex</th>\n",
       "      <th>Capital Gain</th>\n",
       "      <th>Capital Loss</th>\n",
       "      <th>Hours per week</th>\n",
       "      <th>Country</th>\n",
       "      <th>Target</th>\n",
       "    </tr>\n",
       "  </thead>\n",
       "  <tbody>\n",
       "    <tr>\n",
       "      <th>0</th>\n",
       "      <td>56f45652</td>\n",
       "      <td>64152</td>\n",
       "      <td>39</td>\n",
       "      <td>State-gov</td>\n",
       "      <td>77516</td>\n",
       "      <td>Bachelors</td>\n",
       "      <td>13</td>\n",
       "      <td>Never-married</td>\n",
       "      <td>Adm-clerical</td>\n",
       "      <td>Not-in-family</td>\n",
       "      <td>White</td>\n",
       "      <td>Male</td>\n",
       "      <td>2174</td>\n",
       "      <td>0</td>\n",
       "      <td>40</td>\n",
       "      <td>United-States</td>\n",
       "      <td>&lt;=50K</td>\n",
       "    </tr>\n",
       "    <tr>\n",
       "      <th>1</th>\n",
       "      <td>c1dd5973</td>\n",
       "      <td>61523</td>\n",
       "      <td>50</td>\n",
       "      <td>Self-emp-not-inc</td>\n",
       "      <td>83311</td>\n",
       "      <td>Bachelors</td>\n",
       "      <td>13</td>\n",
       "      <td>Married-civ-spouse</td>\n",
       "      <td>Exec-managerial</td>\n",
       "      <td>Husband</td>\n",
       "      <td>White</td>\n",
       "      <td>Male</td>\n",
       "      <td>0</td>\n",
       "      <td>0</td>\n",
       "      <td>13</td>\n",
       "      <td>United-States</td>\n",
       "      <td>&lt;=50K</td>\n",
       "    </tr>\n",
       "    <tr>\n",
       "      <th>2</th>\n",
       "      <td>d7548254</td>\n",
       "      <td>95668</td>\n",
       "      <td>38</td>\n",
       "      <td>Private</td>\n",
       "      <td>215646</td>\n",
       "      <td>HS-grad</td>\n",
       "      <td>9</td>\n",
       "      <td>Divorced</td>\n",
       "      <td>Handlers-cleaners</td>\n",
       "      <td>Not-in-family</td>\n",
       "      <td>White</td>\n",
       "      <td>Male</td>\n",
       "      <td>0</td>\n",
       "      <td>0</td>\n",
       "      <td>40</td>\n",
       "      <td>United-States</td>\n",
       "      <td>&lt;=50K</td>\n",
       "    </tr>\n",
       "  </tbody>\n",
       "</table>\n",
       "</div>"
      ],
      "text/plain": [
       "         ID    Zip  Age         Workclass  fnlwgt  Education  Education-Num  \\\n",
       "0  56f45652  64152   39         State-gov   77516  Bachelors             13   \n",
       "1  c1dd5973  61523   50  Self-emp-not-inc   83311  Bachelors             13   \n",
       "2  d7548254  95668   38           Private  215646    HS-grad              9   \n",
       "\n",
       "       Marital Status         Occupation   Relationship   Race   Sex  \\\n",
       "0       Never-married       Adm-clerical  Not-in-family  White  Male   \n",
       "1  Married-civ-spouse    Exec-managerial        Husband  White  Male   \n",
       "2            Divorced  Handlers-cleaners  Not-in-family  White  Male   \n",
       "\n",
       "   Capital Gain  Capital Loss  Hours per week        Country Target  \n",
       "0          2174             0              40  United-States  <=50K  \n",
       "1             0             0              13  United-States  <=50K  \n",
       "2             0             0              40  United-States  <=50K  "
      ]
     },
     "execution_count": 6,
     "metadata": {},
     "output_type": "execute_result"
    }
   ],
   "source": [
    "data_WDI[\"Name\"] = data[\"Name\"].map(name_map)\n",
    "data_WDI = data_WDI.rename(columns={'Name': 'ID'})\n",
    "data_WDI.head(3)"
   ]
  },
  {
   "cell_type": "code",
   "execution_count": 7,
   "id": "b88414a5-2607-4861-a3e8-9f9a89ad9f16",
   "metadata": {},
   "outputs": [
    {
     "data": {
      "text/html": [
       "<div>\n",
       "<style scoped>\n",
       "    .dataframe tbody tr th:only-of-type {\n",
       "        vertical-align: middle;\n",
       "    }\n",
       "\n",
       "    .dataframe tbody tr th {\n",
       "        vertical-align: top;\n",
       "    }\n",
       "\n",
       "    .dataframe thead th {\n",
       "        text-align: right;\n",
       "    }\n",
       "</style>\n",
       "<table border=\"1\" class=\"dataframe\">\n",
       "  <thead>\n",
       "    <tr style=\"text-align: right;\">\n",
       "      <th></th>\n",
       "      <th>Original Name</th>\n",
       "      <th>Pseudonym</th>\n",
       "    </tr>\n",
       "  </thead>\n",
       "  <tbody>\n",
       "    <tr>\n",
       "      <th>0</th>\n",
       "      <td>Karrie Trusslove</td>\n",
       "      <td>56f45652</td>\n",
       "    </tr>\n",
       "    <tr>\n",
       "      <th>1</th>\n",
       "      <td>Brandise Tripony</td>\n",
       "      <td>c1dd5973</td>\n",
       "    </tr>\n",
       "    <tr>\n",
       "      <th>2</th>\n",
       "      <td>Brenn McNeely</td>\n",
       "      <td>d7548254</td>\n",
       "    </tr>\n",
       "  </tbody>\n",
       "</table>\n",
       "</div>"
      ],
      "text/plain": [
       "      Original Name Pseudonym\n",
       "0  Karrie Trusslove  56f45652\n",
       "1  Brandise Tripony  c1dd5973\n",
       "2     Brenn McNeely  d7548254"
      ]
     },
     "execution_count": 7,
     "metadata": {},
     "output_type": "execute_result"
    }
   ],
   "source": [
    "# Save pseudonymized dataset\n",
    "data_WDI.to_csv(\"data_resources/pseudonymized_data_from_jupyter.csv\", index=False)\n",
    "\n",
    "# Store mapping securely for reversibility\n",
    "mapping_data = pd.DataFrame(list(name_map.items()), columns=[\"Original Name\", \"Pseudonym\"])\n",
    "mapping_data.to_csv(\"data_resources/name_mapping.csv\", index=False)\n",
    "\n",
    "mapping_data.head(3)"
   ]
  },
  {
   "cell_type": "markdown",
   "id": "a84c12c4-da02-43fe-bfdb-984ba0d1d597",
   "metadata": {},
   "source": [
    "If you need to **de-pseudonymize** the data, just reload the mapping:"
   ]
  },
  {
   "cell_type": "code",
   "execution_count": 8,
   "id": "a9e91e5b-74ac-4dc3-a583-52c1593931be",
   "metadata": {},
   "outputs": [],
   "source": [
    "# Load mapping to reverse\n",
    "mapping_df = pd.read_csv(\"data_resources/name_mapping.csv\")\n",
    "name_map = dict(zip(mapping_df[\"Pseudonym\"], mapping_df[\"Original Name\"]))"
   ]
  },
  {
   "cell_type": "code",
   "execution_count": 9,
   "id": "9d39b46b-86de-44d0-90be-d3c58b764c7f",
   "metadata": {},
   "outputs": [
    {
     "data": {
      "text/html": [
       "<div>\n",
       "<style scoped>\n",
       "    .dataframe tbody tr th:only-of-type {\n",
       "        vertical-align: middle;\n",
       "    }\n",
       "\n",
       "    .dataframe tbody tr th {\n",
       "        vertical-align: top;\n",
       "    }\n",
       "\n",
       "    .dataframe thead th {\n",
       "        text-align: right;\n",
       "    }\n",
       "</style>\n",
       "<table border=\"1\" class=\"dataframe\">\n",
       "  <thead>\n",
       "    <tr style=\"text-align: right;\">\n",
       "      <th></th>\n",
       "      <th>Name</th>\n",
       "      <th>Zip</th>\n",
       "      <th>Age</th>\n",
       "      <th>Workclass</th>\n",
       "      <th>fnlwgt</th>\n",
       "      <th>Education</th>\n",
       "      <th>Education-Num</th>\n",
       "      <th>Marital Status</th>\n",
       "      <th>Occupation</th>\n",
       "      <th>Relationship</th>\n",
       "      <th>Race</th>\n",
       "      <th>Sex</th>\n",
       "      <th>Capital Gain</th>\n",
       "      <th>Capital Loss</th>\n",
       "      <th>Hours per week</th>\n",
       "      <th>Country</th>\n",
       "      <th>Target</th>\n",
       "    </tr>\n",
       "  </thead>\n",
       "  <tbody>\n",
       "    <tr>\n",
       "      <th>0</th>\n",
       "      <td>Karrie Trusslove</td>\n",
       "      <td>64152</td>\n",
       "      <td>39</td>\n",
       "      <td>State-gov</td>\n",
       "      <td>77516</td>\n",
       "      <td>Bachelors</td>\n",
       "      <td>13</td>\n",
       "      <td>Never-married</td>\n",
       "      <td>Adm-clerical</td>\n",
       "      <td>Not-in-family</td>\n",
       "      <td>White</td>\n",
       "      <td>Male</td>\n",
       "      <td>2174</td>\n",
       "      <td>0</td>\n",
       "      <td>40</td>\n",
       "      <td>United-States</td>\n",
       "      <td>&lt;=50K</td>\n",
       "    </tr>\n",
       "    <tr>\n",
       "      <th>1</th>\n",
       "      <td>Brandise Tripony</td>\n",
       "      <td>61523</td>\n",
       "      <td>50</td>\n",
       "      <td>Self-emp-not-inc</td>\n",
       "      <td>83311</td>\n",
       "      <td>Bachelors</td>\n",
       "      <td>13</td>\n",
       "      <td>Married-civ-spouse</td>\n",
       "      <td>Exec-managerial</td>\n",
       "      <td>Husband</td>\n",
       "      <td>White</td>\n",
       "      <td>Male</td>\n",
       "      <td>0</td>\n",
       "      <td>0</td>\n",
       "      <td>13</td>\n",
       "      <td>United-States</td>\n",
       "      <td>&lt;=50K</td>\n",
       "    </tr>\n",
       "    <tr>\n",
       "      <th>2</th>\n",
       "      <td>Brenn McNeely</td>\n",
       "      <td>95668</td>\n",
       "      <td>38</td>\n",
       "      <td>Private</td>\n",
       "      <td>215646</td>\n",
       "      <td>HS-grad</td>\n",
       "      <td>9</td>\n",
       "      <td>Divorced</td>\n",
       "      <td>Handlers-cleaners</td>\n",
       "      <td>Not-in-family</td>\n",
       "      <td>White</td>\n",
       "      <td>Male</td>\n",
       "      <td>0</td>\n",
       "      <td>0</td>\n",
       "      <td>40</td>\n",
       "      <td>United-States</td>\n",
       "      <td>&lt;=50K</td>\n",
       "    </tr>\n",
       "  </tbody>\n",
       "</table>\n",
       "</div>"
      ],
      "text/plain": [
       "               Name    Zip  Age         Workclass  fnlwgt  Education  \\\n",
       "0  Karrie Trusslove  64152   39         State-gov   77516  Bachelors   \n",
       "1  Brandise Tripony  61523   50  Self-emp-not-inc   83311  Bachelors   \n",
       "2     Brenn McNeely  95668   38           Private  215646    HS-grad   \n",
       "\n",
       "   Education-Num      Marital Status         Occupation   Relationship   Race  \\\n",
       "0             13       Never-married       Adm-clerical  Not-in-family  White   \n",
       "1             13  Married-civ-spouse    Exec-managerial        Husband  White   \n",
       "2              9            Divorced  Handlers-cleaners  Not-in-family  White   \n",
       "\n",
       "    Sex  Capital Gain  Capital Loss  Hours per week        Country Target  \n",
       "0  Male          2174             0              40  United-States  <=50K  \n",
       "1  Male             0             0              13  United-States  <=50K  \n",
       "2  Male             0             0              40  United-States  <=50K  "
      ]
     },
     "execution_count": 9,
     "metadata": {},
     "output_type": "execute_result"
    }
   ],
   "source": [
    "# Load pseudonymized data\n",
    "df = pd.read_csv(\"data_resources/pseudonymized_data_from_jupyter.csv\")\n",
    "\n",
    "# Reverse the tokenization\n",
    "df[\"ID\"] = df[\"ID\"].map(name_map)\n",
    "df = df.rename(columns={'ID': 'Name'})\n",
    "df.head(3)"
   ]
  },
  {
   "cell_type": "markdown",
   "id": "e3cecb7d-56b5-4e7b-b50a-908f96f89cb9",
   "metadata": {},
   "source": [
    "&nbsp;"
   ]
  },
  {
   "cell_type": "markdown",
   "id": "f7cc0a10-212f-4548-98bd-fc9aa48cb824",
   "metadata": {},
   "source": [
    "**3) Membership inference attack**"
   ]
  },
  {
   "cell_type": "markdown",
   "id": "4a4e774d-a576-4789-a861-23a47fa480f9",
   "metadata": {},
   "source": [
    "We have intuitively removed Name, DOB, and SSN to eliminate explicit identification of individuals in this dataset. \n",
    "\n",
    "**However, could other attributes contribute to the re-identification of a person from our pseudonymised dataset?**\n",
    "\n",
    "Let's take the example of the `Faith McCloughlin` record from the original dataset"
   ]
  },
  {
   "cell_type": "code",
   "execution_count": 10,
   "id": "fcc8cbd1-df6b-4dc7-9784-6de665d46be3",
   "metadata": {},
   "outputs": [
    {
     "data": {
      "text/html": [
       "<div>\n",
       "<style scoped>\n",
       "    .dataframe tbody tr th:only-of-type {\n",
       "        vertical-align: middle;\n",
       "    }\n",
       "\n",
       "    .dataframe tbody tr th {\n",
       "        vertical-align: top;\n",
       "    }\n",
       "\n",
       "    .dataframe thead th {\n",
       "        text-align: right;\n",
       "    }\n",
       "</style>\n",
       "<table border=\"1\" class=\"dataframe\">\n",
       "  <thead>\n",
       "    <tr style=\"text-align: right;\">\n",
       "      <th></th>\n",
       "      <th>Name</th>\n",
       "      <th>DOB</th>\n",
       "      <th>SSN</th>\n",
       "      <th>Zip</th>\n",
       "      <th>Age</th>\n",
       "      <th>Workclass</th>\n",
       "      <th>fnlwgt</th>\n",
       "      <th>Education</th>\n",
       "      <th>Education-Num</th>\n",
       "      <th>Marital Status</th>\n",
       "      <th>Occupation</th>\n",
       "      <th>Relationship</th>\n",
       "      <th>Race</th>\n",
       "      <th>Sex</th>\n",
       "      <th>Capital Gain</th>\n",
       "      <th>Capital Loss</th>\n",
       "      <th>Hours per week</th>\n",
       "      <th>Country</th>\n",
       "      <th>Target</th>\n",
       "    </tr>\n",
       "  </thead>\n",
       "  <tbody>\n",
       "    <tr>\n",
       "      <th>11019</th>\n",
       "      <td>Faith McCloughlin</td>\n",
       "      <td>12/25/1984</td>\n",
       "      <td>718-79-8158</td>\n",
       "      <td>41277</td>\n",
       "      <td>30</td>\n",
       "      <td>Private</td>\n",
       "      <td>132565</td>\n",
       "      <td>Some-college</td>\n",
       "      <td>10</td>\n",
       "      <td>Never-married</td>\n",
       "      <td>Craft-repair</td>\n",
       "      <td>Unmarried</td>\n",
       "      <td>White</td>\n",
       "      <td>Male</td>\n",
       "      <td>0</td>\n",
       "      <td>0</td>\n",
       "      <td>40</td>\n",
       "      <td>United-States</td>\n",
       "      <td>&lt;=50K</td>\n",
       "    </tr>\n",
       "  </tbody>\n",
       "</table>\n",
       "</div>"
      ],
      "text/plain": [
       "                    Name         DOB          SSN    Zip  Age Workclass  \\\n",
       "11019  Faith McCloughlin  12/25/1984  718-79-8158  41277   30   Private   \n",
       "\n",
       "       fnlwgt     Education  Education-Num Marital Status    Occupation  \\\n",
       "11019  132565  Some-college             10  Never-married  Craft-repair   \n",
       "\n",
       "      Relationship   Race   Sex  Capital Gain  Capital Loss  Hours per week  \\\n",
       "11019    Unmarried  White  Male             0             0              40   \n",
       "\n",
       "             Country Target  \n",
       "11019  United-States  <=50K  "
      ]
     },
     "execution_count": 10,
     "metadata": {},
     "output_type": "execute_result"
    }
   ],
   "source": [
    "#Print his information\n",
    "McCloughlin_row = data[data['Name']=='Faith McCloughlin']\n",
    "McCloughlin_row.head(3)"
   ]
  },
  {
   "cell_type": "code",
   "execution_count": 11,
   "id": "24c6bb17-ae51-48fb-82dd-b262f8d72952",
   "metadata": {},
   "outputs": [
    {
     "name": "stdout",
     "output_type": "stream",
     "text": [
      "zip: 41277\n"
     ]
    }
   ],
   "source": [
    "#We save his zip code\n",
    "zip = McCloughlin_row['Zip'].values[0] \n",
    "print(\"zip: \"+str(zip))"
   ]
  },
  {
   "cell_type": "markdown",
   "id": "0af48d7c-ecc5-4cd7-98c1-7e64c9ffdbea",
   "metadata": {},
   "source": [
    "Knowing that `Faith McCloughlin` is present in this this pseudonymised dataset, can we re-identify him and retrieve his information just with his zip code?"
   ]
  },
  {
   "cell_type": "code",
   "execution_count": 12,
   "id": "ba77d2c4-b628-4421-8ae3-d6970ec6f269",
   "metadata": {},
   "outputs": [
    {
     "data": {
      "text/html": [
       "<div>\n",
       "<style scoped>\n",
       "    .dataframe tbody tr th:only-of-type {\n",
       "        vertical-align: middle;\n",
       "    }\n",
       "\n",
       "    .dataframe tbody tr th {\n",
       "        vertical-align: top;\n",
       "    }\n",
       "\n",
       "    .dataframe thead th {\n",
       "        text-align: right;\n",
       "    }\n",
       "</style>\n",
       "<table border=\"1\" class=\"dataframe\">\n",
       "  <thead>\n",
       "    <tr style=\"text-align: right;\">\n",
       "      <th></th>\n",
       "      <th>ID</th>\n",
       "      <th>Zip</th>\n",
       "      <th>Age</th>\n",
       "      <th>Workclass</th>\n",
       "      <th>fnlwgt</th>\n",
       "      <th>Education</th>\n",
       "      <th>Education-Num</th>\n",
       "      <th>Marital Status</th>\n",
       "      <th>Occupation</th>\n",
       "      <th>Relationship</th>\n",
       "      <th>Race</th>\n",
       "      <th>Sex</th>\n",
       "      <th>Capital Gain</th>\n",
       "      <th>Capital Loss</th>\n",
       "      <th>Hours per week</th>\n",
       "      <th>Country</th>\n",
       "      <th>Target</th>\n",
       "    </tr>\n",
       "  </thead>\n",
       "  <tbody>\n",
       "    <tr>\n",
       "      <th>11019</th>\n",
       "      <td>8e094313</td>\n",
       "      <td>41277</td>\n",
       "      <td>30</td>\n",
       "      <td>Private</td>\n",
       "      <td>132565</td>\n",
       "      <td>Some-college</td>\n",
       "      <td>10</td>\n",
       "      <td>Never-married</td>\n",
       "      <td>Craft-repair</td>\n",
       "      <td>Unmarried</td>\n",
       "      <td>White</td>\n",
       "      <td>Male</td>\n",
       "      <td>0</td>\n",
       "      <td>0</td>\n",
       "      <td>40</td>\n",
       "      <td>United-States</td>\n",
       "      <td>&lt;=50K</td>\n",
       "    </tr>\n",
       "  </tbody>\n",
       "</table>\n",
       "</div>"
      ],
      "text/plain": [
       "             ID    Zip  Age Workclass  fnlwgt     Education  Education-Num  \\\n",
       "11019  8e094313  41277   30   Private  132565  Some-college             10   \n",
       "\n",
       "      Marital Status    Occupation Relationship   Race   Sex  Capital Gain  \\\n",
       "11019  Never-married  Craft-repair    Unmarried  White  Male             0   \n",
       "\n",
       "       Capital Loss  Hours per week        Country Target  \n",
       "11019             0              40  United-States  <=50K  "
      ]
     },
     "execution_count": 12,
     "metadata": {},
     "output_type": "execute_result"
    }
   ],
   "source": [
    "data_WDI[(data_WDI['Zip']==zip)]"
   ]
  },
  {
   "cell_type": "markdown",
   "id": "f7d7f641-c196-47b1-a82a-22d41d9896ba",
   "metadata": {},
   "source": [
    "Yes, it is possible. In the code above, we filtered data_WDI to include only individuals with the same ZIP code as McCloughlin. The result contains **only McCloughlin’s record**, indicating that **his ZIP code alone is enough to uniquely identify him.**\n",
    "\n",
    "\n",
    "This raises an important question: How many individuals can be uniquely identified based on each attribute?"
   ]
  },
  {
   "cell_type": "code",
   "execution_count": 13,
   "id": "40354463-2fdf-4628-a946-c0f279c7f242",
   "metadata": {},
   "outputs": [
    {
     "name": "stdout",
     "output_type": "stream",
     "text": [
      "Nombre de personnes identifiables à partir de Name : 32561, soit 100.0 %\n",
      "Nombre de personnes identifiables à partir de DOB : 7845, soit 24.09 %\n",
      "Nombre de personnes identifiables à partir de SSN : 32559, soit 99.99 %\n",
      "Nombre de personnes identifiables à partir de Zip : 23513, soit 72.21 %\n",
      "Nombre de personnes identifiables à partir de Age : 2, soit 0.01 %\n",
      "Nombre de personnes identifiables à partir de Workclass : 0, soit 0.0 %\n",
      "Nombre de personnes identifiables à partir de fnlwgt : 15330, soit 47.08 %\n",
      "Nombre de personnes identifiables à partir de Education : 0, soit 0.0 %\n",
      "Nombre de personnes identifiables à partir de Education-Num : 0, soit 0.0 %\n",
      "Nombre de personnes identifiables à partir de Marital Status : 0, soit 0.0 %\n",
      "Nombre de personnes identifiables à partir de Occupation : 0, soit 0.0 %\n",
      "Nombre de personnes identifiables à partir de Relationship : 0, soit 0.0 %\n",
      "Nombre de personnes identifiables à partir de Race : 0, soit 0.0 %\n",
      "Nombre de personnes identifiables à partir de Sex : 0, soit 0.0 %\n",
      "Nombre de personnes identifiables à partir de Capital Gain : 10, soit 0.03 %\n",
      "Nombre de personnes identifiables à partir de Capital Loss : 12, soit 0.04 %\n",
      "Nombre de personnes identifiables à partir de Hours per week : 5, soit 0.02 %\n",
      "Nombre de personnes identifiables à partir de Country : 1, soit 0.0 %\n",
      "Nombre de personnes identifiables à partir de Target : 0, soit 0.0 %\n"
     ]
    }
   ],
   "source": [
    "for col in data.columns:\n",
    "    unique_count = len(data[col].value_counts()[data[col].value_counts() == 1])\n",
    "    pourcentage = round(unique_count*100/data.shape[0],2)\n",
    "    print(f\"Nombre de personnes identifiables à partir de {col} : {unique_count}, soit {pourcentage} %\")"
   ]
  },
  {
   "cell_type": "markdown",
   "id": "a32168f0-29e3-40bc-83e6-4adc4b7ef7da",
   "metadata": {},
   "source": [
    "As expected, Name, DOB or SSN result in direct identification of individuals. However, we can note that the **zip code is a high risk of re-identification**, and will therefore be considered as a PII, so we adjust our new depersonalised dataset accordingly"
   ]
  },
  {
   "cell_type": "code",
   "execution_count": 14,
   "id": "52c45123-9b69-4e70-9510-babe1f1b7b25",
   "metadata": {},
   "outputs": [
    {
     "data": {
      "text/html": [
       "<div>\n",
       "<style scoped>\n",
       "    .dataframe tbody tr th:only-of-type {\n",
       "        vertical-align: middle;\n",
       "    }\n",
       "\n",
       "    .dataframe tbody tr th {\n",
       "        vertical-align: top;\n",
       "    }\n",
       "\n",
       "    .dataframe thead th {\n",
       "        text-align: right;\n",
       "    }\n",
       "</style>\n",
       "<table border=\"1\" class=\"dataframe\">\n",
       "  <thead>\n",
       "    <tr style=\"text-align: right;\">\n",
       "      <th></th>\n",
       "      <th>ID</th>\n",
       "      <th>Age</th>\n",
       "      <th>Workclass</th>\n",
       "      <th>fnlwgt</th>\n",
       "      <th>Education</th>\n",
       "      <th>Education-Num</th>\n",
       "      <th>Marital Status</th>\n",
       "      <th>Occupation</th>\n",
       "      <th>Relationship</th>\n",
       "      <th>Race</th>\n",
       "      <th>Sex</th>\n",
       "      <th>Capital Gain</th>\n",
       "      <th>Capital Loss</th>\n",
       "      <th>Hours per week</th>\n",
       "      <th>Country</th>\n",
       "      <th>Target</th>\n",
       "    </tr>\n",
       "  </thead>\n",
       "  <tbody>\n",
       "    <tr>\n",
       "      <th>0</th>\n",
       "      <td>56f45652</td>\n",
       "      <td>39</td>\n",
       "      <td>State-gov</td>\n",
       "      <td>77516</td>\n",
       "      <td>Bachelors</td>\n",
       "      <td>13</td>\n",
       "      <td>Never-married</td>\n",
       "      <td>Adm-clerical</td>\n",
       "      <td>Not-in-family</td>\n",
       "      <td>White</td>\n",
       "      <td>Male</td>\n",
       "      <td>2174</td>\n",
       "      <td>0</td>\n",
       "      <td>40</td>\n",
       "      <td>United-States</td>\n",
       "      <td>&lt;=50K</td>\n",
       "    </tr>\n",
       "    <tr>\n",
       "      <th>1</th>\n",
       "      <td>c1dd5973</td>\n",
       "      <td>50</td>\n",
       "      <td>Self-emp-not-inc</td>\n",
       "      <td>83311</td>\n",
       "      <td>Bachelors</td>\n",
       "      <td>13</td>\n",
       "      <td>Married-civ-spouse</td>\n",
       "      <td>Exec-managerial</td>\n",
       "      <td>Husband</td>\n",
       "      <td>White</td>\n",
       "      <td>Male</td>\n",
       "      <td>0</td>\n",
       "      <td>0</td>\n",
       "      <td>13</td>\n",
       "      <td>United-States</td>\n",
       "      <td>&lt;=50K</td>\n",
       "    </tr>\n",
       "    <tr>\n",
       "      <th>2</th>\n",
       "      <td>d7548254</td>\n",
       "      <td>38</td>\n",
       "      <td>Private</td>\n",
       "      <td>215646</td>\n",
       "      <td>HS-grad</td>\n",
       "      <td>9</td>\n",
       "      <td>Divorced</td>\n",
       "      <td>Handlers-cleaners</td>\n",
       "      <td>Not-in-family</td>\n",
       "      <td>White</td>\n",
       "      <td>Male</td>\n",
       "      <td>0</td>\n",
       "      <td>0</td>\n",
       "      <td>40</td>\n",
       "      <td>United-States</td>\n",
       "      <td>&lt;=50K</td>\n",
       "    </tr>\n",
       "  </tbody>\n",
       "</table>\n",
       "</div>"
      ],
      "text/plain": [
       "         ID  Age         Workclass  fnlwgt  Education  Education-Num  \\\n",
       "0  56f45652   39         State-gov   77516  Bachelors             13   \n",
       "1  c1dd5973   50  Self-emp-not-inc   83311  Bachelors             13   \n",
       "2  d7548254   38           Private  215646    HS-grad              9   \n",
       "\n",
       "       Marital Status         Occupation   Relationship   Race   Sex  \\\n",
       "0       Never-married       Adm-clerical  Not-in-family  White  Male   \n",
       "1  Married-civ-spouse    Exec-managerial        Husband  White  Male   \n",
       "2            Divorced  Handlers-cleaners  Not-in-family  White  Male   \n",
       "\n",
       "   Capital Gain  Capital Loss  Hours per week        Country Target  \n",
       "0          2174             0              40  United-States  <=50K  \n",
       "1             0             0              13  United-States  <=50K  \n",
       "2             0             0              40  United-States  <=50K  "
      ]
     },
     "execution_count": 14,
     "metadata": {},
     "output_type": "execute_result"
    }
   ],
   "source": [
    "data_WDI = data_WDI.drop(['Zip'],axis=1) #dataset without direct identifiers\n",
    "data_WDI.head(3)"
   ]
  },
  {
   "cell_type": "markdown",
   "id": "b0524b26-6020-4e5b-b565-ebddee8c1708",
   "metadata": {},
   "source": [
    "&nbsp;"
   ]
  },
  {
   "cell_type": "markdown",
   "id": "29249dcf-8e02-474e-9b2c-b04e212c4d40",
   "metadata": {},
   "source": [
    "**4) QIDs**"
   ]
  },
  {
   "cell_type": "markdown",
   "id": "001b6e74-d47a-4f53-8103-35fe16e62acb",
   "metadata": {},
   "source": [
    "What would happen if we kept the date of birth but generalized the data to include only the year of birth? **How could an attacker exploit the combination of multiple attributes?**"
   ]
  },
  {
   "cell_type": "code",
   "execution_count": 15,
   "id": "f9e2ccf9-d056-44c8-8eb4-be73d855d728",
   "metadata": {},
   "outputs": [
    {
     "data": {
      "text/html": [
       "<div>\n",
       "<style scoped>\n",
       "    .dataframe tbody tr th:only-of-type {\n",
       "        vertical-align: middle;\n",
       "    }\n",
       "\n",
       "    .dataframe tbody tr th {\n",
       "        vertical-align: top;\n",
       "    }\n",
       "\n",
       "    .dataframe thead th {\n",
       "        text-align: right;\n",
       "    }\n",
       "</style>\n",
       "<table border=\"1\" class=\"dataframe\">\n",
       "  <thead>\n",
       "    <tr style=\"text-align: right;\">\n",
       "      <th></th>\n",
       "      <th>ID</th>\n",
       "      <th>Age</th>\n",
       "      <th>Workclass</th>\n",
       "      <th>fnlwgt</th>\n",
       "      <th>Education</th>\n",
       "      <th>Education-Num</th>\n",
       "      <th>Marital Status</th>\n",
       "      <th>Occupation</th>\n",
       "      <th>Relationship</th>\n",
       "      <th>Race</th>\n",
       "      <th>Sex</th>\n",
       "      <th>Capital Gain</th>\n",
       "      <th>Capital Loss</th>\n",
       "      <th>Hours per week</th>\n",
       "      <th>Country</th>\n",
       "      <th>Target</th>\n",
       "      <th>DOB</th>\n",
       "    </tr>\n",
       "  </thead>\n",
       "  <tbody>\n",
       "    <tr>\n",
       "      <th>0</th>\n",
       "      <td>56f45652</td>\n",
       "      <td>39</td>\n",
       "      <td>State-gov</td>\n",
       "      <td>77516</td>\n",
       "      <td>Bachelors</td>\n",
       "      <td>13</td>\n",
       "      <td>Never-married</td>\n",
       "      <td>Adm-clerical</td>\n",
       "      <td>Not-in-family</td>\n",
       "      <td>White</td>\n",
       "      <td>Male</td>\n",
       "      <td>2174</td>\n",
       "      <td>0</td>\n",
       "      <td>40</td>\n",
       "      <td>United-States</td>\n",
       "      <td>&lt;=50K</td>\n",
       "      <td>1967</td>\n",
       "    </tr>\n",
       "    <tr>\n",
       "      <th>1</th>\n",
       "      <td>c1dd5973</td>\n",
       "      <td>50</td>\n",
       "      <td>Self-emp-not-inc</td>\n",
       "      <td>83311</td>\n",
       "      <td>Bachelors</td>\n",
       "      <td>13</td>\n",
       "      <td>Married-civ-spouse</td>\n",
       "      <td>Exec-managerial</td>\n",
       "      <td>Husband</td>\n",
       "      <td>White</td>\n",
       "      <td>Male</td>\n",
       "      <td>0</td>\n",
       "      <td>0</td>\n",
       "      <td>13</td>\n",
       "      <td>United-States</td>\n",
       "      <td>&lt;=50K</td>\n",
       "      <td>1988</td>\n",
       "    </tr>\n",
       "    <tr>\n",
       "      <th>2</th>\n",
       "      <td>d7548254</td>\n",
       "      <td>38</td>\n",
       "      <td>Private</td>\n",
       "      <td>215646</td>\n",
       "      <td>HS-grad</td>\n",
       "      <td>9</td>\n",
       "      <td>Divorced</td>\n",
       "      <td>Handlers-cleaners</td>\n",
       "      <td>Not-in-family</td>\n",
       "      <td>White</td>\n",
       "      <td>Male</td>\n",
       "      <td>0</td>\n",
       "      <td>0</td>\n",
       "      <td>40</td>\n",
       "      <td>United-States</td>\n",
       "      <td>&lt;=50K</td>\n",
       "      <td>1991</td>\n",
       "    </tr>\n",
       "  </tbody>\n",
       "</table>\n",
       "</div>"
      ],
      "text/plain": [
       "         ID  Age         Workclass  fnlwgt  Education  Education-Num  \\\n",
       "0  56f45652   39         State-gov   77516  Bachelors             13   \n",
       "1  c1dd5973   50  Self-emp-not-inc   83311  Bachelors             13   \n",
       "2  d7548254   38           Private  215646    HS-grad              9   \n",
       "\n",
       "       Marital Status         Occupation   Relationship   Race   Sex  \\\n",
       "0       Never-married       Adm-clerical  Not-in-family  White  Male   \n",
       "1  Married-civ-spouse    Exec-managerial        Husband  White  Male   \n",
       "2            Divorced  Handlers-cleaners  Not-in-family  White  Male   \n",
       "\n",
       "   Capital Gain  Capital Loss  Hours per week        Country Target   DOB  \n",
       "0          2174             0              40  United-States  <=50K  1967  \n",
       "1             0             0              13  United-States  <=50K  1988  \n",
       "2             0             0              40  United-States  <=50K  1991  "
      ]
     },
     "execution_count": 15,
     "metadata": {},
     "output_type": "execute_result"
    }
   ],
   "source": [
    "data_WDI['DOB'] = pd.to_datetime(data['DOB']).dt.year\n",
    "data_WDI.head(3)"
   ]
  },
  {
   "cell_type": "code",
   "execution_count": 16,
   "id": "6ad1a348-6313-4e14-85cc-da3934e138fe",
   "metadata": {},
   "outputs": [
    {
     "name": "stdout",
     "output_type": "stream",
     "text": [
      "Cambodia 1953 count: 1\n",
      "Cambodia 1958 count: 1\n",
      "Cambodia 1959 count: 1\n",
      "Cambodia 1960 count: 1\n",
      "Cambodia 1964 count: 1\n",
      "Cambodia 1966 count: 1\n",
      "Cambodia 1972 count: 1\n",
      "Cambodia 1976 count: 2\n",
      "Cambodia 1982 count: 1\n",
      "Cambodia 1985 count: 1\n",
      "Cambodia 1986 count: 2\n",
      "Cambodia 1991 count: 1\n",
      "Cambodia 1994 count: 1\n",
      "Cambodia 1995 count: 1\n",
      "Cambodia 1996 count: 1\n",
      "Cambodia 2002 count: 1\n",
      "Cambodia 2003 count: 1\n",
      "Canada 1950 count: 1\n",
      "Canada 1951 count: 3\n",
      "Canada 1952 count: 2\n",
      "Canada 1953 count: 2\n",
      "Canada 1955 count: 5\n",
      "Canada 1956 count: 2\n",
      "Canada 1957 count: 2\n",
      "Canada 1958 count: 3\n",
      "Canada 1960 count: 1\n",
      "Canada 1961 count: 3\n",
      "Canada 1962 count: 1\n",
      "Canada 1964 count: 2\n",
      "Canada 1965 count: 1\n"
     ]
    }
   ],
   "source": [
    "# Group by 'Country' and 'DOB', then count the number of people in each group\n",
    "grouped_data = data_WDI.groupby(['Country', 'DOB']).size().reset_index(name='count')\n",
    "\n",
    "# Limit to the first 30 rows\n",
    "examples_grouped_data = grouped_data.head(30)\n",
    "\n",
    "# Create a formatted output string\n",
    "for index, row in examples_grouped_data.iterrows():\n",
    "    print(f\"{row['Country']} {row['DOB']} count: {row['count']}\")"
   ]
  },
  {
   "cell_type": "code",
   "execution_count": 17,
   "id": "e57dace8-a2b3-4a32-a415-836a44194052",
   "metadata": {},
   "outputs": [
    {
     "name": "stdout",
     "output_type": "stream",
     "text": [
      "Total identifiable individuals out of 32561 people : 693\n"
     ]
    }
   ],
   "source": [
    "# Filter the rows where count equals 1\n",
    "identified_people = grouped_data[grouped_data['count'] == 1]\n",
    "\n",
    "# Get the total number of individuals that can be identified\n",
    "identified_count = identified_people['count'].sum()\n",
    "\n",
    "total = data_WDI.shape[0]\n",
    "\n",
    "# Display the result\n",
    "print(f\"Total identifiable individuals out of {total} people : {identified_count}\")"
   ]
  },
  {
   "cell_type": "markdown",
   "id": "65795624-d99b-4194-92de-8e9732b7cd48",
   "metadata": {},
   "source": [
    "By combining the year of birth and the country of origin, the attacker can uniquely identify 693 individuals. These elements are known as [`quasi-identifiers (QIDs)`](https://csrc.nist.gov/glossary/term/quasi_identifier)"
   ]
  },
  {
   "cell_type": "markdown",
   "id": "d4966242-c1f8-42dd-b1a3-dd687135842d",
   "metadata": {},
   "source": [
    "**5) Limits of pseudonymisation**"
   ]
  },
  {
   "cell_type": "markdown",
   "id": "274014f4-e9a3-4074-89a8-b9090dacb59c",
   "metadata": {},
   "source": [
    "Pseudonymisation is a valuable technique for enhancing data privacy by replacing personally identifiable information with pseudonyms, reducing the risk of direct identification. However, its effectiveness has significant limitations. One major weakness is that pseudonymised **data can still be re-identified when combined with other datasets or auxiliary information**, particularly as computational techniques advance. Additionally, pseudonymisation **does not eliminate all privacy risks, as patterns within the data may still reveal sensitive insights** about individuals. This makes it an insufficient standalone measure for robust data protection, especially in contexts where data sharing and linkage are common."
   ]
  },
  {
   "cell_type": "markdown",
   "id": "75ba38de-01ed-4f96-acf8-6e1dc57e80c4",
   "metadata": {},
   "source": [
    "---------------------------------------------------------------------------------"
   ]
  },
  {
   "cell_type": "markdown",
   "id": "ebca5bd4-db19-4181-a37d-414d29399980",
   "metadata": {},
   "source": [
    "# **Conclusion**"
   ]
  },
  {
   "cell_type": "markdown",
   "id": "b15d8baa-3922-4997-bda5-3c048f385fd9",
   "metadata": {},
   "source": [
    "In conclusion, pseudonymisation is a useful but imperfect tool for data privacy, providing some protection but not guaranteeing complete anonymity. To address these shortcomings, more advanced techniques like differential privacy are emerging. Differential privacy adds carefully designed statistical noise to datasets, ensuring that individual contributions remain indistinguishable even when multiple datasets are combined. This approach offers stronger privacy guarantees and is increasingly being adopted in areas like official statistics, machine learning, and large-scale data analytics.We will explore this approach further in a separate project."
   ]
  },
  {
   "cell_type": "markdown",
   "id": "d5fe1821-2dae-4b2e-98b7-fe2f249f0ff3",
   "metadata": {},
   "source": [
    "&nbsp;"
   ]
  },
  {
   "cell_type": "markdown",
   "id": "5716a7e0-6e8a-4d56-8549-5df0aa345a00",
   "metadata": {},
   "source": [
    "<span style=\"font-size: 11px;\">Copyright © 2024 Laure Bouzerand. All rights reserved.\n",
    "This notebook and its source code is protected by copyright law. You may not reproduce, distribute, or use this work without the express written permission of the copyright holder.\n",
    "</span>"
   ]
  }
 ],
 "metadata": {
  "kernelspec": {
   "display_name": "Python 3 (ipykernel)",
   "language": "python",
   "name": "python3"
  },
  "language_info": {
   "codemirror_mode": {
    "name": "ipython",
    "version": 3
   },
   "file_extension": ".py",
   "mimetype": "text/x-python",
   "name": "python",
   "nbconvert_exporter": "python",
   "pygments_lexer": "ipython3",
   "version": "3.12.5"
  }
 },
 "nbformat": 4,
 "nbformat_minor": 5
}
